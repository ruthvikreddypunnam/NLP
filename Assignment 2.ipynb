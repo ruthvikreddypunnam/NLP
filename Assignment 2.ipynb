{
 "cells": [
  {
   "cell_type": "markdown",
   "id": "b8a41abd",
   "metadata": {},
   "source": [
    "A paragraph is a series of sentences that are organized and coherent, and are \n",
    "all  related  to  a  single  topic.  Almost  every  piece  of  writing  you  do  that  is \n",
    "longer  than  a  few  sentences  should  be  organized  into  paragraphs.  This  is \n",
    "because paragraphs show a reader where the subdivisions of an essay begin \n",
    "and end, and thus help the reader see the organization of the essay and grasp \n",
    "its main points.\n",
    "Paragraphs  can  contain  many  different  kinds  of  information.  A  paragraph \n",
    "could  contain  a  series  of  brief  examples  or  a  single  long  illustration  of  a \n",
    "general  point.  It  might  describe  a  place,  character,  or  process;  narrate  a \n",
    "series of events; compare or contrast two or more things; classify items into \n",
    "categories;  or  describe  causes  and  effects.  Regardless  of  the  kind  of \n",
    "information they contain, all paragraphs share certain characteristics. One \n",
    "of the most important of these is a topic sentence.\n",
    "1. Convert the above paragraph into vectors using:\n",
    "i) Word2vec\n",
    "ii) USE\n",
    "iii)ELMO\n",
    "iv) GP2\n",
    "v) Sentence-BERT\n",
    "2. Find named entities (NER) for the above paragraph?\n",
    "3. Find similar sentences(repeated sentences) from the above paragraph?\n",
    "4. Explain POS tagging with HMM?"
   ]
  },
  {
   "cell_type": "code",
   "execution_count": 1,
   "id": "d6320e04",
   "metadata": {},
   "outputs": [],
   "source": [
    "para=\"A paragraph is a series of sentences that are organized and coherent, and are all related to a single topic. Almost every piece of writing you do that is longer than a few sentences should be organized into paragraphs. This is because paragraphs show a reader where the subdivisions of an essay begin and end, and thus help the reader see the organization of the essay and grasp its main points. Paragraphs can contain many different kinds of information. A paragraph could contain a series of brief examples or a single long illustration of a general point. It might describe a place, character, or process; narrate a series of events; compare or contrast two or more things; classify items into categories; or describe causes and effects. Regardless of the kind of information they contain, all paragraphs share certain characteristics. One of the most important of these is a topic sentence.\""
   ]
  },
  {
   "cell_type": "markdown",
   "id": "a8905c93",
   "metadata": {},
   "source": [
    "### i. word2vec"
   ]
  },
  {
   "cell_type": "code",
   "execution_count": 2,
   "id": "6330793e",
   "metadata": {},
   "outputs": [],
   "source": [
    "# word2vec\n",
    "import gensim\n",
    "from nltk.tokenize import sent_tokenize,word_tokenize"
   ]
  },
  {
   "cell_type": "code",
   "execution_count": 3,
   "id": "dcd57b93",
   "metadata": {},
   "outputs": [],
   "source": [
    "def para_to_sentences(paragraph):\n",
    "    token_text=sent_tokenize(para)\n",
    "    return token_text\n",
    "sentences=para_to_sentences(para)"
   ]
  },
  {
   "cell_type": "code",
   "execution_count": 4,
   "id": "e10f75a3",
   "metadata": {},
   "outputs": [
    {
     "name": "stdout",
     "output_type": "stream",
     "text": [
      "[['paragraph', 'is', 'series', 'of', 'sentences', 'that', 'are', 'organized', 'and', 'coherent', 'and', 'are', 'all', 'related', 'to', 'single', 'topic'], ['almost', 'every', 'piece', 'of', 'writing', 'you', 'do', 'that', 'is', 'longer', 'than', 'few', 'sentences', 'should', 'be', 'organized', 'into', 'paragraphs'], ['this', 'is', 'because', 'paragraphs', 'show', 'reader', 'where', 'the', 'subdivisions', 'of', 'an', 'essay', 'begin', 'and', 'end', 'and', 'thus', 'help', 'the', 'reader', 'see', 'the', 'organization', 'of', 'the', 'essay', 'and', 'grasp', 'its', 'main', 'points'], ['paragraphs', 'can', 'contain', 'many', 'different', 'kinds', 'of', 'information'], ['paragraph', 'could', 'contain', 'series', 'of', 'brief', 'examples', 'or', 'single', 'long', 'illustration', 'of', 'general', 'point'], ['it', 'might', 'describe', 'place', 'character', 'or', 'process', 'narrate', 'series', 'of', 'events', 'compare', 'or', 'contrast', 'two', 'or', 'more', 'things', 'classify', 'items', 'into', 'categories', 'or', 'describe', 'causes', 'and', 'effects'], ['regardless', 'of', 'the', 'kind', 'of', 'information', 'they', 'contain', 'all', 'paragraphs', 'share', 'certain', 'characteristics'], ['one', 'of', 'the', 'most', 'important', 'of', 'these', 'is', 'topic', 'sentence']]\n"
     ]
    }
   ],
   "source": [
    "l=[]\n",
    "for sent in sentences:\n",
    "    l.append(gensim.utils.simple_preprocess(sent))\n",
    "print(l)"
   ]
  },
  {
   "cell_type": "code",
   "execution_count": 5,
   "id": "72593d36",
   "metadata": {},
   "outputs": [],
   "source": [
    "model = gensim.models.Word2Vec(\n",
    "    window=10,\n",
    "    min_count=2,\n",
    "    workers=4,\n",
    ")"
   ]
  },
  {
   "cell_type": "code",
   "execution_count": 6,
   "id": "a91bbd3b",
   "metadata": {},
   "outputs": [],
   "source": [
    "model.build_vocab(l, progress_per=1000)"
   ]
  },
  {
   "cell_type": "code",
   "execution_count": 7,
   "id": "8906a666",
   "metadata": {},
   "outputs": [
    {
     "data": {
      "text/plain": [
       "(65, 690)"
      ]
     },
     "execution_count": 7,
     "metadata": {},
     "output_type": "execute_result"
    }
   ],
   "source": [
    "model.train(l, total_examples=model.corpus_count, epochs=model.epochs)"
   ]
  },
  {
   "cell_type": "code",
   "execution_count": 8,
   "id": "747fd856",
   "metadata": {},
   "outputs": [
    {
     "data": {
      "text/plain": [
       "array([ 0.00256464,  0.00085122, -0.00254158,  0.00936326,  0.00275122,\n",
       "        0.00408725, -0.00118289,  0.00090751,  0.00661735, -0.00073198,\n",
       "        0.00334924, -0.00066804,  0.00524295,  0.00364366,  0.00258447,\n",
       "       -0.00530848, -0.00469422,  0.0043135 , -0.00591148, -0.00019326,\n",
       "       -0.000628  ,  0.00349602, -0.0084247 ,  0.00882555, -0.00144813,\n",
       "       -0.00532457,  0.00404872, -0.00193306, -0.00777014, -0.00449719,\n",
       "       -0.00038177, -0.00893872,  0.00057595,  0.00244112, -0.00322584,\n",
       "        0.00257555,  0.00247919,  0.00998184,  0.00141811,  0.00202076,\n",
       "        0.00278695, -0.00208257, -0.00869598,  0.00802021, -0.00196767,\n",
       "       -0.00969022, -0.00656409, -0.00395256,  0.00395663,  0.00503551,\n",
       "        0.00608422, -0.00677394,  0.00067858, -0.00277397, -0.00521836,\n",
       "        0.00697568,  0.00395227, -0.00311303, -0.00828018, -0.00513957,\n",
       "       -0.00064547,  0.00781497,  0.0060536 , -0.00844874, -0.00956101,\n",
       "        0.00713385, -0.00233128, -0.00368517,  0.00574779, -0.00585269,\n",
       "        0.0050958 , -0.00023682, -0.00688374, -0.00032596,  0.00637128,\n",
       "        0.00929614,  0.00222467,  0.00505768, -0.00497572, -0.00079926,\n",
       "       -0.0053169 ,  0.00118475, -0.0017922 , -0.003621  , -0.0070215 ,\n",
       "        0.00965208,  0.00299175, -0.0022785 , -0.00418605,  0.00771288,\n",
       "       -0.00648464,  0.00312669,  0.00078448,  0.00832034,  0.00684114,\n",
       "       -0.00290881,  0.00254812, -0.00167699, -0.00945668, -0.00260632],\n",
       "      dtype=float32)"
      ]
     },
     "execution_count": 8,
     "metadata": {},
     "output_type": "execute_result"
    }
   ],
   "source": [
    "model.wv.get_vector(\"paragraph\")"
   ]
  },
  {
   "cell_type": "code",
   "execution_count": 9,
   "id": "f7a1e0d3",
   "metadata": {
    "scrolled": true
   },
   "outputs": [
    {
     "data": {
      "text/plain": [
       "[('and', 0.14894114434719086),\n",
       " ('that', 0.11169113963842392),\n",
       " ('into', 0.10763373225927353),\n",
       " ('paragraphs', 0.09823466837406158),\n",
       " ('of', 0.08486287295818329),\n",
       " ('or', 0.03229844197630882),\n",
       " ('topic', 0.03180677443742752),\n",
       " ('essay', 0.01484037097543478),\n",
       " ('is', 0.014433730393648148),\n",
       " ('sentences', 0.009862910956144333)]"
      ]
     },
     "execution_count": 9,
     "metadata": {},
     "output_type": "execute_result"
    }
   ],
   "source": [
    "model.wv.most_similar(\"paragraph\")"
   ]
  },
  {
   "cell_type": "markdown",
   "id": "e14aa8a9",
   "metadata": {},
   "source": [
    "### ii. USE"
   ]
  },
  {
   "cell_type": "code",
   "execution_count": 10,
   "id": "e468d7f7",
   "metadata": {},
   "outputs": [
    {
     "name": "stdout",
     "output_type": "stream",
     "text": [
      "tf.Tensor(\n",
      "[[ 0.01168496 -0.0306057   0.06116335 ... -0.08641754  0.00025049\n",
      "   0.05482752]\n",
      " [ 0.02972506 -0.03655469  0.08002593 ... -0.07038905 -0.02832127\n",
      "   0.04804677]\n",
      " [ 0.07221661 -0.04182233  0.05336687 ... -0.06942353  0.01795931\n",
      "   0.06641504]\n",
      " ...\n",
      " [ 0.01586946 -0.05243037  0.06065089 ... -0.06435591  0.04215745\n",
      "   0.06304205]\n",
      " [ 0.04141245  0.02588909 -0.00625631 ... -0.0216299   0.00910814\n",
      "   0.03623573]\n",
      " [ 0.0157841  -0.02142678  0.00402447 ... -0.09605584 -0.06707881\n",
      "   0.0797038 ]], shape=(8, 512), dtype=float32)\n"
     ]
    }
   ],
   "source": [
    "#importing USE model\n",
    "import tensorflow_hub as hub\n",
    "use= hub.load(\"https://tfhub.dev/google/universal-sentence-encoder/4\")\n",
    "#converting to vectors\n",
    "embeddings=use(sentences)\n",
    "print(embeddings)"
   ]
  },
  {
   "cell_type": "markdown",
   "id": "23dd1443",
   "metadata": {},
   "source": [
    "### iii. ELMO"
   ]
  },
  {
   "cell_type": "code",
   "execution_count": 11,
   "id": "7ecff755",
   "metadata": {},
   "outputs": [
    {
     "name": "stdout",
     "output_type": "stream",
     "text": [
      "INFO:tensorflow:Saver not created because there are no variables in the graph to restore\n"
     ]
    },
    {
     "name": "stderr",
     "output_type": "stream",
     "text": [
      "INFO:tensorflow:Saver not created because there are no variables in the graph to restore\n"
     ]
    },
    {
     "name": "stdout",
     "output_type": "stream",
     "text": [
      "WARNING:tensorflow:From c:\\users\\binnu\\appdata\\local\\programs\\python\\python39\\lib\\site-packages\\tensorflow\\python\\util\\tf_should_use.py:247: initialize_all_variables (from tensorflow.python.ops.variables) is deprecated and will be removed after 2017-03-02.\n",
      "Instructions for updating:\n",
      "Use `tf.global_variables_initializer` instead.\n"
     ]
    },
    {
     "name": "stderr",
     "output_type": "stream",
     "text": [
      "WARNING:tensorflow:From c:\\users\\binnu\\appdata\\local\\programs\\python\\python39\\lib\\site-packages\\tensorflow\\python\\util\\tf_should_use.py:247: initialize_all_variables (from tensorflow.python.ops.variables) is deprecated and will be removed after 2017-03-02.\n",
      "Instructions for updating:\n",
      "Use `tf.global_variables_initializer` instead.\n"
     ]
    },
    {
     "name": "stdout",
     "output_type": "stream",
     "text": [
      "\n",
      "\n",
      "\n",
      "[[ 0.29287007 -0.14378    -0.32574052 ... -0.39559263 -0.35758862\n",
      "  -0.03588085]\n",
      " [-0.5944161   0.09640709  0.5053766  ...  0.22031938  0.26976904\n",
      "   0.46307272]\n",
      " [-0.17083284 -0.187441   -0.27626708 ... -0.6755088   0.25389984\n",
      "   0.654027  ]\n",
      " ...\n",
      " [-0.02840841 -0.04353216  0.04130162 ...  0.02583168 -0.01429836\n",
      "  -0.01650422]\n",
      " [-0.02840841 -0.04353216  0.04130162 ...  0.02583168 -0.01429836\n",
      "  -0.01650422]\n",
      " [-0.02840841 -0.04353216  0.04130162 ...  0.02583168 -0.01429836\n",
      "  -0.01650422]]\n",
      "shape= (32, 1024)\n"
     ]
    }
   ],
   "source": [
    "import tensorflow.compat.v1 as tf\n",
    "tf.disable_eager_execution()\n",
    "#1024 sized vectors\n",
    "elmo=hub.Module(\"https://tfhub.dev/google/elmo/3\",trainable=True)\n",
    "embeddings=elmo(\n",
    "    sentences,\n",
    "    signature=\"default\",\n",
    "    as_dict=True)[\"elmo\"]\n",
    "init=tf.initialize_all_variables()\n",
    "sess=tf.Session()\n",
    "sess.run(init)\n",
    "print(\"\\n\\n\")\n",
    "print(sess.run(embeddings[0]))\n",
    "print(\"shape=\",embeddings[0].shape)"
   ]
  },
  {
   "cell_type": "markdown",
   "id": "761baae2",
   "metadata": {},
   "source": [
    "### iv. GPT2"
   ]
  },
  {
   "cell_type": "code",
   "execution_count": null,
   "id": "102f172c",
   "metadata": {},
   "outputs": [],
   "source": [
    "import torch\n",
    "import transformers\n",
    "gptokenizer=transformers.GPT2Tokenizer.from_pretrained('gpt2-large')\n",
    "model=transformers.GPT2LMHeadModel.from_pretrained('gpt2-large')\n",
    "output=gptokenizer.encode(para,add_special_tokens=False,return_tensors=\"pt\")\n",
    "print(\"shape=\",output.shape)\n",
    "output"
   ]
  },
  {
   "cell_type": "markdown",
   "id": "475f855c",
   "metadata": {},
   "source": [
    "### v. sentence BERT"
   ]
  },
  {
   "cell_type": "code",
   "execution_count": null,
   "id": "4c072758",
   "metadata": {},
   "outputs": [],
   "source": [
    "bert = hub.KerasLayer(\"https://tfhub.dev/google/nnlm-en-dim128/2\")\n",
    "embeddings2=bert(sentences)\n",
    "print(list(embeddings2))"
   ]
  },
  {
   "cell_type": "markdown",
   "id": "ec440af5",
   "metadata": {},
   "source": [
    "2"
   ]
  },
  {
   "cell_type": "code",
   "execution_count": null,
   "id": "a3e1eee7",
   "metadata": {},
   "outputs": [],
   "source": [
    "import spacy\n",
    "from spacy import displacy\n",
    "ner = spacy.load('en_core_web_lg')\n",
    "\n",
    "result=ner(para)\n",
    "\n",
    "for word in result.ents:\n",
    "    print(word.text,word.label_)"
   ]
  },
  {
   "cell_type": "code",
   "execution_count": null,
   "id": "875432de",
   "metadata": {},
   "outputs": [],
   "source": []
  },
  {
   "cell_type": "markdown",
   "id": "921f08b3",
   "metadata": {},
   "source": [
    "3"
   ]
  },
  {
   "cell_type": "code",
   "execution_count": null,
   "id": "fd2eebcb",
   "metadata": {},
   "outputs": [],
   "source": [
    "from sentence_transformers import SentenceTransformer\n",
    "sbert_model = SentenceTransformer('bert-base-nli-mean-tokens')"
   ]
  },
  {
   "cell_type": "code",
   "execution_count": null,
   "id": "08fc02a5",
   "metadata": {},
   "outputs": [],
   "source": [
    "se_embeddings = sbert_model.encode(sentences)\n",
    "q1_vec= sbert_model.encode(sentences[0])\n",
    "import numpy as np\n",
    "#cosine similarity function\n",
    "#identifies similarity between 2 sentences\n",
    "def cosine(u, v):\n",
    "    return np.dot(u, v) / (np.linalg.norm(u) * np.linalg.norm(v))\n",
    "\n",
    "for sent in sentences:\n",
    "    sim = cosine(q1_vec, sbert_model.encode([sent])[0])\n",
    "  #if similarity ==1 => repeated sentence\n",
    "  #if similarity > 0.6 => similar sentence\n",
    "    if sim>0.6:\n",
    "        print(\"Sentence1 =\",sentences[0],\"\\n \\nSentence2=\", sent, \"\\n\\nsimilarity = \", sim,end=\"\\n ----------------------------- \\n\")\n"
   ]
  },
  {
   "cell_type": "code",
   "execution_count": null,
   "id": "dd47b573",
   "metadata": {},
   "outputs": [],
   "source": []
  },
  {
   "cell_type": "markdown",
   "id": "22cd6e2f",
   "metadata": {},
   "source": [
    "#### 4. Explain POS tagging with HMM?"
   ]
  },
  {
   "cell_type": "markdown",
   "id": "23d86571",
   "metadata": {},
   "source": [
    "Tagging is a kind of classification that may be defined as the automatic assignment of description to the tokens. Here the descriptor is called tag, which may represent one of the part-of-speech, semantic information and so on.\n",
    "\n",
    "Now, if we talk about Part-of-Speech (PoS) tagging, then it may be defined as the process of assigning one of the parts of speech to the given word. It is generally called POS tagging. In simple words, we can say that POS tagging is a task of labelling each word in a sentence with its appropriate part of speech. We already know that parts of speech include nouns, verb, adverbs, adjectives, pronouns, conjunction and their sub-categories.\n",
    "\n",
    "Most of the POS tagging falls under Rule Base POS tagging, Stochastic POS tagging and Transformation based tagging.\n",
    "\n",
    "Rule-based POS Tagging\n",
    "One of the oldest techniques of tagging is rule-based POS tagging. Rule-based taggers use dictionary or lexicon for getting possible tags for tagging each word. If the word has more than one possible tag, then rule-based taggers use hand-written rules to identify the correct tag. Disambiguation can also be performed in rule-based tagging by analyzing the linguistic features of a word along with its preceding as well as following words. For example, suppose if the preceding word of a word is article then word must be a noun.\n",
    "\n",
    "As the name suggests, all such kind of information in rule-based POS tagging is coded in the form of rules. These rules may be either −\n",
    "\n",
    "Context-pattern rules\n",
    "\n",
    "Or, as Regular expression compiled into finite-state automata, intersected with lexically ambiguous sentence representation.\n",
    "\n",
    "We can also understand Rule-based POS tagging by its two-stage architecture −\n",
    "\n",
    "First stage − In the first stage, it uses a dictionary to assign each word a list of potential parts-of-speech.\n",
    "\n",
    "Second stage − In the second stage, it uses large lists of hand-written disambiguation rules to sort down the list to a single part-of-speech for each word.\n",
    "\n",
    "Properties of Rule-Based POS Tagging\n",
    "Rule-based POS taggers possess the following properties −\n",
    "\n",
    "These taggers are knowledge-driven taggers.\n",
    "\n",
    "The rules in Rule-based POS tagging are built manually.\n",
    "\n",
    "The information is coded in the form of rules.\n",
    "\n",
    "We have some limited number of rules approximately around 1000.\n",
    "\n",
    "Smoothing and language modeling is defined explicitly in rule-based taggers.\n",
    "\n",
    "Stochastic POS Tagging\n",
    "Another technique of tagging is Stochastic POS Tagging. Now, the question that arises here is which model can be stochastic. The model that includes frequency or probability (statistics) can be called stochastic. Any number of different approaches to the problem of part-of-speech tagging can be referred to as stochastic tagger.\n",
    "\n",
    "The simplest stochastic tagger applies the following approaches for POS tagging −\n",
    "\n",
    "Word Frequency Approach\n",
    "In this approach, the stochastic taggers disambiguate the words based on the probability that a word occurs with a particular tag. We can also say that the tag encountered most frequently with the word in the training set is the one assigned to an ambiguous instance of that word. The main issue with this approach is that it may yield inadmissible sequence of tags.\n",
    "\n",
    "Tag Sequence Probabilities\n",
    "It is another approach of stochastic tagging, where the tagger calculates the probability of a given sequence of tags occurring. It is also called n-gram approach. It is called so because the best tag for a given word is determined by the probability at which it occurs with the n previous tags.\n",
    "\n",
    "Properties of Stochastic POST Tagging\n",
    "Stochastic POS taggers possess the following properties −\n",
    "\n",
    "This POS tagging is based on the probability of tag occurring.\n",
    "\n",
    "It requires training corpus\n",
    "\n",
    "There would be no probability for the words that do not exist in the corpus.\n",
    "\n",
    "It uses different testing corpus (other than training corpus).\n",
    "\n",
    "It is the simplest POS tagging because it chooses most frequent tags associated with a word in training corpus.\n",
    "\n",
    "Transformation-based Tagging\n",
    "Transformation based tagging is also called Brill tagging. It is an instance of the transformation-based learning (TBL), which is a rule-based algorithm for automatic tagging of POS to the given text. TBL, allows us to have linguistic knowledge in a readable form, transforms one state to another state by using transformation rules.\n",
    "\n",
    "It draws the inspiration from both the previous explained taggers − rule-based and stochastic. If we see similarity between rule-based and transformation tagger, then like rule-based, it is also based on the rules that specify what tags need to be assigned to what words. On the other hand, if we see similarity between stochastic and transformation tagger then like stochastic, it is machine learning technique in which rules are automatically induced from data.\n",
    "\n",
    "Working of Transformation Based Learning(TBL)\n",
    "In order to understand the working and concept of transformation-based taggers, we need to understand the working of transformation-based learning. Consider the following steps to understand the working of TBL −\n",
    "\n",
    "Start with the solution − The TBL usually starts with some solution to the problem and works in cycles.\n",
    "\n",
    "Most beneficial transformation chosen − In each cycle, TBL will choose the most beneficial transformation.\n",
    "\n",
    "Apply to the problem − The transformation chosen in the last step will be applied to the problem.\n",
    "\n",
    "The algorithm will stop when the selected transformation in step 2 will not add either more value or there are no more transformations to be selected. Such kind of learning is best suited in classification tasks.\n",
    "\n",
    "Advantages of Transformation-based Learning (TBL)\n",
    "The advantages of TBL are as follows −\n",
    "\n",
    "We learn small set of simple rules and these rules are enough for tagging.\n",
    "\n",
    "Development as well as debugging is very easy in TBL because the learned rules are easy to understand.\n",
    "\n",
    "Complexity in tagging is reduced because in TBL there is interlacing of machinelearned and human-generated rules.\n",
    "\n",
    "Transformation-based tagger is much faster than Markov-model tagger.\n",
    "\n",
    "Disadvantages of Transformation-based Learning (TBL)\n",
    "The disadvantages of TBL are as follows −\n",
    "\n",
    "Transformation-based learning (TBL) does not provide tag probabilities.\n",
    "\n",
    "In TBL, the training time is very long especially on large corpora.\n",
    "\n",
    "Hidden Markov Model (HMM) POS Tagging\n",
    "Before digging deep into HMM POS tagging, we must understand the concept of Hidden Markov Model (HMM).\n",
    "\n",
    "Hidden Markov Model\n",
    "An HMM model may be defined as the doubly-embedded stochastic model, where the underlying stochastic process is hidden. This hidden stochastic process can only be observed through another set of stochastic processes that produces the sequence of observations.\n",
    "\n",
    "Example\n",
    "For example, a sequence of hidden coin tossing experiments is done and we see only the observation sequence consisting of heads and tails. The actual details of the process - how many coins used, the order in which they are selected - are hidden from us. By observing this sequence of heads and tails, we can build several HMMs to explain the sequence. Following is one form of Hidden Markov Model for this problem −\n",
    "\n",
    "Hidden Markov Model\n",
    "We assumed that there are two states in the HMM and each of the state corresponds to the selection of different biased coin. Following matrix gives the state transition probabilities −\n",
    "\n",
    "A=[a11a21a12a22]\n",
    "Here,\n",
    "\n",
    "aij = probability of transition from one state to another from i to j.\n",
    "\n",
    "a11 + a12 = 1 and a21 + a22 =1\n",
    "\n",
    "P1 = probability of heads of the first coin i.e. the bias of the first coin.\n",
    "\n",
    "P2 = probability of heads of the second coin i.e. the bias of the second coin.\n",
    "\n",
    "We can also create an HMM model assuming that there are 3 coins or more.\n",
    "\n",
    "This way, we can characterize HMM by the following elements −\n",
    "\n",
    "N, the number of states in the model (in the above example N =2, only two states).\n",
    "\n",
    "M, the number of distinct observations that can appear with each state in the above example M = 2, i.e., H or T).\n",
    "\n",
    "A, the state transition probability distribution − the matrix A in the above example.\n",
    "\n",
    "P, the probability distribution of the observable symbols in each state (in our example P1 and P2).\n",
    "\n",
    "I, the initial state distribution.\n",
    "\n",
    "Use of HMM for POS Tagging\n",
    "The POS tagging process is the process of finding the sequence of tags which is most likely to have generated a given word sequence. We can model this POS process by using a Hidden Markov Model (HMM), where tags are the hidden states that produced the observable output, i.e., the words.\n",
    "\n",
    "Mathematically, in POS tagging, we are always interested in finding a tag sequence (C) which maximizes −\n",
    "\n",
    "P (C|W)\n",
    "\n",
    "Where,\n",
    "\n",
    "C = C1, C2, C3... CT\n",
    "\n",
    "W = W1, W2, W3, WT\n",
    "\n",
    "On the other side of coin, the fact is that we need a lot of statistical data to reasonably estimate such kind of sequences. However, to simplify the problem, we can apply some mathematical transformations along with some assumptions.\n",
    "\n",
    "The use of HMM to do a POS tagging is a special case of Bayesian interference. Hence, we will start by restating the problem using Bayes’ rule, which says that the above-mentioned conditional probability is equal to −\n",
    "\n",
    "(PROB (C1,..., CT) * PROB (W1,..., WT | C1,..., CT)) / PROB (W1,..., WT)\n",
    "\n",
    "We can eliminate the denominator in all these cases because we are interested in finding the sequence C which maximizes the above value. This will not affect our answer. Now, our problem reduces to finding the sequence C that maximizes −\n",
    "\n",
    "PROB (C1,..., CT) * PROB (W1,..., WT | C1,..., CT) (1)\n",
    "\n",
    "Even after reducing the problem in the above expression, it would require large amount of data. We can make reasonable independence assumptions about the two probabilities in the above expression to overcome the problem.\n",
    "\n",
    "First Assumption\n",
    "The probability of a tag depends on the previous one (bigram model) or previous two (trigram model) or previous n tags (n-gram model) which, mathematically, can be explained as follows −\n",
    "\n",
    "PROB (C1,..., CT) = Πi=1..T PROB (Ci|Ci-n+1…Ci-1) (n-gram model)\n",
    "\n",
    "PROB (C1,..., CT) = Πi=1..T PROB (Ci|Ci-1) (bigram model)\n",
    "\n",
    "The beginning of a sentence can be accounted for by assuming an initial probability for each tag.\n",
    "\n",
    "PROB (C1|C0) = PROB initial (C1)\n",
    "\n",
    "Second Assumption\n",
    "The second probability in equation (1) above can be approximated by assuming that a word appears in a category independent of the words in the preceding or succeeding categories which can be explained mathematically as follows −\n",
    "\n",
    "PROB (W1,..., WT | C1,..., CT) = Πi=1..T PROB (Wi|Ci)\n",
    "\n",
    "Now, on the basis of the above two assumptions, our goal reduces to finding a sequence C which maximizes\n",
    "\n",
    "Πi=1...T PROB(Ci|Ci-1) * PROB(Wi|Ci)\n",
    "\n",
    "Now the question that arises here is has converting the problem to the above form really helped us. The answer is - yes, it has. If we have a large tagged corpus, then the two probabilities in the above formula can be calculated as −\n",
    "\n",
    "PROB (Ci=VERB|Ci-1=NOUN) = (# of instances where Verb follows Noun) / (# of instances where Noun appears) (2)\n",
    "\n",
    "PROB (Wi|Ci) = (# of instances where Wi appears in Ci) /(# of instances where Ci appears) (3)\n",
    "\n"
   ]
  },
  {
   "cell_type": "code",
   "execution_count": null,
   "id": "e22c8eb1",
   "metadata": {},
   "outputs": [],
   "source": []
  },
  {
   "cell_type": "code",
   "execution_count": null,
   "id": "8b43ee7e",
   "metadata": {},
   "outputs": [],
   "source": []
  }
 ],
 "metadata": {
  "kernelspec": {
   "display_name": "Python 3 (ipykernel)",
   "language": "python",
   "name": "python3"
  },
  "language_info": {
   "codemirror_mode": {
    "name": "ipython",
    "version": 3
   },
   "file_extension": ".py",
   "mimetype": "text/x-python",
   "name": "python",
   "nbconvert_exporter": "python",
   "pygments_lexer": "ipython3",
   "version": "3.9.6"
  }
 },
 "nbformat": 4,
 "nbformat_minor": 5
}
